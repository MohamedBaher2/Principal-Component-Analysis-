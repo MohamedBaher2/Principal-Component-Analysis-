{
 "cells": [
  {
   "cell_type": "markdown",
   "id": "38c197af",
   "metadata": {},
   "source": [
    "# Mohamed Baher"
   ]
  },
  {
   "cell_type": "code",
   "execution_count": 1,
   "id": "7f9a901b",
   "metadata": {},
   "outputs": [],
   "source": [
    "#import our libraries\n",
    "import numpy as np \n",
    "import pandas as pd"
   ]
  },
  {
   "cell_type": "code",
   "execution_count": 2,
   "id": "33e89afc",
   "metadata": {},
   "outputs": [],
   "source": [
    "data = np.array([[1,2,3,4],\n",
    "               [5,5,6,7],\n",
    "               [1,4,2,3],\n",
    "               [5,3,2,1],\n",
    "               [8,1,2,2]])"
   ]
  },
  {
   "cell_type": "markdown",
   "id": "9b1160af",
   "metadata": {},
   "source": [
    "# [1] standardization dataset"
   ]
  },
  {
   "cell_type": "markdown",
   "id": "c1d67f9b",
   "metadata": {},
   "source": [
    "# $X = \\frac{X - \\mu}{\\sigma}$      \n",
    "# $\\mu = \\frac{\\sum x_i}{n}$\n",
    "# $\\sigma = \\sqrt{\\frac{\\sum (x - x_i)^2}{n-1}}$"
   ]
  },
  {
   "cell_type": "code",
   "execution_count": 3,
   "id": "6166a44b",
   "metadata": {},
   "outputs": [
    {
     "name": "stdout",
     "output_type": "stream",
     "text": [
      "mean_features :  [4.  3.  3.  3.4]\n",
      "std_features :  [2.68328157 1.41421356 1.54919334 2.05912603]\n"
     ]
    }
   ],
   "source": [
    "#new_valuee = (old_value - mean ) / std\n",
    "#find mean and standard deviation for each column\n",
    "mean_features = data.mean(axis = 0)\n",
    "std_features = data.std(axis = 0)\n",
    "print(\"mean_features : \" , mean_features)\n",
    "print(\"std_features : \" , std_features)"
   ]
  },
  {
   "cell_type": "code",
   "execution_count": 4,
   "id": "b1a38b56",
   "metadata": {},
   "outputs": [
    {
     "name": "stderr",
     "output_type": "stream",
     "text": [
      "C:\\Users\\Nv\\AppData\\Local\\Temp/ipykernel_22448/1773283720.py:5: RuntimeWarning: Mean of empty slice.\n",
      "  mean = column.mean()\n",
      "C:\\ProgramData\\Anaconda3\\lib\\site-packages\\numpy\\core\\_methods.py:188: RuntimeWarning: invalid value encountered in double_scalars\n",
      "  ret = ret.dtype.type(ret / rcount)\n",
      "C:\\ProgramData\\Anaconda3\\lib\\site-packages\\numpy\\core\\_methods.py:261: RuntimeWarning: Degrees of freedom <= 0 for slice\n",
      "  ret = _var(a, axis=axis, dtype=dtype, out=out, ddof=ddof,\n",
      "C:\\ProgramData\\Anaconda3\\lib\\site-packages\\numpy\\core\\_methods.py:221: RuntimeWarning: invalid value encountered in true_divide\n",
      "  arrmean = um.true_divide(arrmean, div, out=arrmean, casting='unsafe',\n",
      "C:\\ProgramData\\Anaconda3\\lib\\site-packages\\numpy\\core\\_methods.py:253: RuntimeWarning: invalid value encountered in double_scalars\n",
      "  ret = ret.dtype.type(ret / rcount)\n"
     ]
    },
    {
     "data": {
      "text/plain": [
       "array([-1.11803399,  0.372678  , -1.11803399,  0.372678  ,  1.49071198,\n",
       "       -0.70710678,  1.41421356,  0.70710678,  0.        , -1.41421356,\n",
       "        0.        ,  1.93649167, -0.64549722, -0.64549722, -0.64549722,\n",
       "        0.29138576,  1.74831455, -0.19425717, -1.16554303, -0.6799001 ])"
      ]
     },
     "execution_count": 4,
     "metadata": {},
     "output_type": "execute_result"
    }
   ],
   "source": [
    "#selcet each feature alone to apply standardization\n",
    "new_data = []\n",
    "for i in range (len(data)):\n",
    "    column = data[:,i:i+1]\n",
    "    mean = column.mean()\n",
    "    std = column.std()\n",
    "    for element in column:\n",
    "        values = ((element - mean) / std)\n",
    "        for items in values:\n",
    "            new_data.append(items)\n",
    "new_data = np.array(new_data)\n",
    "new_data"
   ]
  },
  {
   "cell_type": "code",
   "execution_count": 5,
   "id": "4033e680",
   "metadata": {},
   "outputs": [
    {
     "data": {
      "text/plain": [
       "array([[-1.11803399, -0.70710678,  0.        ,  0.29138576],\n",
       "       [ 0.372678  ,  1.41421356,  1.93649167,  1.74831455],\n",
       "       [-1.11803399,  0.70710678, -0.64549722, -0.19425717],\n",
       "       [ 0.372678  ,  0.        , -0.64549722, -1.16554303],\n",
       "       [ 1.49071198, -1.41421356, -0.64549722, -0.6799001 ]])"
      ]
     },
     "execution_count": 5,
     "metadata": {},
     "output_type": "execute_result"
    }
   ],
   "source": [
    "#reshape array to size(5,4) accrding to rows\n",
    "data = np.reshape(new_data , (5,4) , order='F')\n",
    "data"
   ]
  },
  {
   "cell_type": "markdown",
   "id": "3df7502b",
   "metadata": {},
   "source": [
    "since we have standarized the dataset,so the mean for each feature is 0 and the standard diviation is 1."
   ]
  },
  {
   "cell_type": "markdown",
   "id": "aeb12eb3",
   "metadata": {},
   "source": [
    "# [2] covariance matrix"
   ]
  },
  {
   "cell_type": "markdown",
   "id": "6841705f",
   "metadata": {},
   "source": [
    "# $C = \\frac{XX^T}{n-1}$\n",
    "# $\\sigma ^2 (variance) = \\frac{\\sum (x - x_i)^2}{n-1}$"
   ]
  },
  {
   "cell_type": "code",
   "execution_count": 6,
   "id": "03e30df4",
   "metadata": {},
   "outputs": [
    {
     "data": {
      "text/html": [
       "<div>\n",
       "<style scoped>\n",
       "    .dataframe tbody tr th:only-of-type {\n",
       "        vertical-align: middle;\n",
       "    }\n",
       "\n",
       "    .dataframe tbody tr th {\n",
       "        vertical-align: top;\n",
       "    }\n",
       "\n",
       "    .dataframe thead th {\n",
       "        text-align: right;\n",
       "    }\n",
       "</style>\n",
       "<table border=\"1\" class=\"dataframe\">\n",
       "  <thead>\n",
       "    <tr style=\"text-align: right;\">\n",
       "      <th></th>\n",
       "      <th>0</th>\n",
       "      <th>1</th>\n",
       "      <th>2</th>\n",
       "      <th>3</th>\n",
       "    </tr>\n",
       "  </thead>\n",
       "  <tbody>\n",
       "    <tr>\n",
       "      <th>0</th>\n",
       "      <td>-1.118034</td>\n",
       "      <td>-0.707107</td>\n",
       "      <td>0.000000</td>\n",
       "      <td>0.291386</td>\n",
       "    </tr>\n",
       "    <tr>\n",
       "      <th>1</th>\n",
       "      <td>0.372678</td>\n",
       "      <td>1.414214</td>\n",
       "      <td>1.936492</td>\n",
       "      <td>1.748315</td>\n",
       "    </tr>\n",
       "    <tr>\n",
       "      <th>2</th>\n",
       "      <td>-1.118034</td>\n",
       "      <td>0.707107</td>\n",
       "      <td>-0.645497</td>\n",
       "      <td>-0.194257</td>\n",
       "    </tr>\n",
       "    <tr>\n",
       "      <th>3</th>\n",
       "      <td>0.372678</td>\n",
       "      <td>0.000000</td>\n",
       "      <td>-0.645497</td>\n",
       "      <td>-1.165543</td>\n",
       "    </tr>\n",
       "    <tr>\n",
       "      <th>4</th>\n",
       "      <td>1.490712</td>\n",
       "      <td>-1.414214</td>\n",
       "      <td>-0.645497</td>\n",
       "      <td>-0.679900</td>\n",
       "    </tr>\n",
       "  </tbody>\n",
       "</table>\n",
       "</div>"
      ],
      "text/plain": [
       "          0         1         2         3\n",
       "0 -1.118034 -0.707107  0.000000  0.291386\n",
       "1  0.372678  1.414214  1.936492  1.748315\n",
       "2 -1.118034  0.707107 -0.645497 -0.194257\n",
       "3  0.372678  0.000000 -0.645497 -1.165543\n",
       "4  1.490712 -1.414214 -0.645497 -0.679900"
      ]
     },
     "execution_count": 6,
     "metadata": {},
     "output_type": "execute_result"
    }
   ],
   "source": [
    "df = pd.DataFrame(data )\n",
    "df"
   ]
  },
  {
   "cell_type": "code",
   "execution_count": 7,
   "id": "e1044551",
   "metadata": {},
   "outputs": [
    {
     "data": {
      "text/plain": [
       "0   -1.118034\n",
       "1    0.372678\n",
       "2   -1.118034\n",
       "3    0.372678\n",
       "4    1.490712\n",
       "Name: 0, dtype: float64"
      ]
     },
     "execution_count": 7,
     "metadata": {},
     "output_type": "execute_result"
    }
   ],
   "source": [
    "x = df[0]\n",
    "x"
   ]
  },
  {
   "cell_type": "code",
   "execution_count": 8,
   "id": "7da6f77d",
   "metadata": {},
   "outputs": [
    {
     "data": {
      "text/plain": [
       "array([[-1.11803399, -0.70710678,  0.        ,  0.29138576],\n",
       "       [ 0.372678  ,  1.41421356,  1.93649167,  1.74831455],\n",
       "       [-1.11803399,  0.70710678, -0.64549722, -0.19425717],\n",
       "       [ 0.372678  ,  0.        , -0.64549722, -1.16554303],\n",
       "       [ 1.49071198, -1.41421356, -0.64549722, -0.6799001 ]])"
      ]
     },
     "execution_count": 8,
     "metadata": {},
     "output_type": "execute_result"
    }
   ],
   "source": [
    "data"
   ]
  },
  {
   "cell_type": "code",
   "execution_count": 9,
   "id": "3516a7ef",
   "metadata": {},
   "outputs": [],
   "source": [
    "mean = 0\n",
    "#f1 = np.array([-1 , 0.33333,  -1 , 0.33333 , 1.33333])\n",
    "#f2 = np.array([-0.6 , 1.26491 , 0.63246 , 0 , -1.26491])\n",
    "#f3 = np.array([])\n",
    "#function that apply covariance on 2 features\n",
    "def cov(x,y):\n",
    "    summision = 0\n",
    "    n = len(x)\n",
    "    for i in range(len(x)):\n",
    "        summision = summision + ((x[i] - mean) * (y[i] - mean))\n",
    "    corr = (1 / (n - 1)) * summision\n",
    "    return corr"
   ]
  },
  {
   "cell_type": "code",
   "execution_count": 10,
   "id": "56fbb96d",
   "metadata": {},
   "outputs": [
    {
     "data": {
      "text/plain": [
       "-0.3243425"
      ]
     },
     "execution_count": 10,
     "metadata": {},
     "output_type": "execute_result"
    }
   ],
   "source": [
    "cov(f2,f1)"
   ]
  },
  {
   "cell_type": "code",
   "execution_count": 11,
   "id": "22364cb8",
   "metadata": {},
   "outputs": [],
   "source": [
    "#function that apply covariance on 2 features\n",
    "def var(x,y):\n",
    "    n = len(x)\n",
    "    summision = 0\n",
    "    for i in range(len(x)):\n",
    "        summision = summision + pow((x[i] - mean),2)\n",
    "    var = summision / (n - 1)\n",
    "    return var"
   ]
  },
  {
   "cell_type": "code",
   "execution_count": 12,
   "id": "51d320bd",
   "metadata": {},
   "outputs": [],
   "source": [
    "#apply covariance on each column with each other columns\n",
    "f1 = []\n",
    "f2 = []\n",
    "f3 = []\n",
    "f4 = []\n",
    "for i in range(4):\n",
    "    x = cov(data[:,:1] , data[:,i:i+1])\n",
    "    for j in x:\n",
    "        f1.append(j)\n",
    "for i in range(4):\n",
    "    x = cov(data[:,1:2] , data[:,i:i+1])\n",
    "    for j in x:\n",
    "        f2.append(j)\n",
    "for i in range(4):\n",
    "    x = cov(data[:,2:3] , data[:,i:i+1])\n",
    "    for j in x:\n",
    "        f3.append(j)\n",
    "for i in range(4):\n",
    "    x = cov(data[:,3:] , data[:,i:i+1])\n",
    "    for j in x:\n",
    "        f4.append(j)"
   ]
  },
  {
   "cell_type": "code",
   "execution_count": 13,
   "id": "75b840eb",
   "metadata": {},
   "outputs": [
    {
     "data": {
      "text/html": [
       "<div>\n",
       "<style scoped>\n",
       "    .dataframe tbody tr th:only-of-type {\n",
       "        vertical-align: middle;\n",
       "    }\n",
       "\n",
       "    .dataframe tbody tr th {\n",
       "        vertical-align: top;\n",
       "    }\n",
       "\n",
       "    .dataframe thead th {\n",
       "        text-align: right;\n",
       "    }\n",
       "</style>\n",
       "<table border=\"1\" class=\"dataframe\">\n",
       "  <thead>\n",
       "    <tr style=\"text-align: right;\">\n",
       "      <th></th>\n",
       "      <th>f1</th>\n",
       "      <th>f2</th>\n",
       "      <th>f3</th>\n",
       "      <th>f4</th>\n",
       "    </tr>\n",
       "  </thead>\n",
       "  <tbody>\n",
       "    <tr>\n",
       "      <th>0</th>\n",
       "      <td>1.250000</td>\n",
       "      <td>-0.395285</td>\n",
       "      <td>0.060141</td>\n",
       "      <td>-0.226236</td>\n",
       "    </tr>\n",
       "    <tr>\n",
       "      <th>1</th>\n",
       "      <td>-0.395285</td>\n",
       "      <td>1.250000</td>\n",
       "      <td>0.798762</td>\n",
       "      <td>0.772653</td>\n",
       "    </tr>\n",
       "    <tr>\n",
       "      <th>2</th>\n",
       "      <td>0.060141</td>\n",
       "      <td>0.798762</td>\n",
       "      <td>1.250000</td>\n",
       "      <td>1.175554</td>\n",
       "    </tr>\n",
       "    <tr>\n",
       "      <th>3</th>\n",
       "      <td>-0.226236</td>\n",
       "      <td>0.772653</td>\n",
       "      <td>1.175554</td>\n",
       "      <td>1.250000</td>\n",
       "    </tr>\n",
       "  </tbody>\n",
       "</table>\n",
       "</div>"
      ],
      "text/plain": [
       "         f1        f2        f3        f4\n",
       "0  1.250000 -0.395285  0.060141 -0.226236\n",
       "1 -0.395285  1.250000  0.798762  0.772653\n",
       "2  0.060141  0.798762  1.250000  1.175554\n",
       "3 -0.226236  0.772653  1.175554  1.250000"
      ]
     },
     "execution_count": 13,
     "metadata": {},
     "output_type": "execute_result"
    }
   ],
   "source": [
    "f1 = pd.Series(f1)\n",
    "f2 = pd.Series(f2)\n",
    "f3 = pd.Series(f3)\n",
    "f4 = pd.Series(f4)\n",
    "covariance_matrix = pd.DataFrame({'f1':f1 , 'f2':f2 , 'f3':f3 , 'f4':f4})\n",
    "covariance_matrix"
   ]
  },
  {
   "cell_type": "markdown",
   "id": "0d4a0de9",
   "metadata": {},
   "source": [
    "#  [3] calculate eigen values and eigen vectors"
   ]
  },
  {
   "cell_type": "code",
   "execution_count": 14,
   "id": "3cc21952",
   "metadata": {},
   "outputs": [
    {
     "data": {
      "text/plain": [
       "array([3.14474155, 1.33161063, 0.4923588 , 0.03128901])"
      ]
     },
     "execution_count": 14,
     "metadata": {},
     "output_type": "execute_result"
    }
   ],
   "source": [
    "np.linalg.eigvals(covariance_matrix)"
   ]
  },
  {
   "cell_type": "code",
   "execution_count": 15,
   "id": "161e12eb",
   "metadata": {},
   "outputs": [
    {
     "data": {
      "text/plain": [
       "(array([0.03128901, 0.4923588 , 1.33161063, 3.14474155]),\n",
       " array([[ 0.19616173,  0.30707099,  0.91705888, -0.16195986],\n",
       "        [ 0.12061043,  0.81731886, -0.20692161,  0.52404813],\n",
       "        [-0.72009851, -0.1882497 ,  0.3205394 ,  0.58589647],\n",
       "        [ 0.65454704, -0.44973251,  0.11593512,  0.59654663]]))"
      ]
     },
     "execution_count": 15,
     "metadata": {},
     "output_type": "execute_result"
    }
   ],
   "source": [
    "#find eigen_vector & eigen_values of covariance_matrix \n",
    "eigens = np.linalg.eigh(covariance_matrix)\n",
    "eigens"
   ]
  },
  {
   "cell_type": "markdown",
   "id": "b1921b25",
   "metadata": {},
   "source": [
    "# [4]Sort eigen values and eigen vectors "
   ]
  },
  {
   "cell_type": "code",
   "execution_count": 16,
   "id": "6f19f3bd",
   "metadata": {},
   "outputs": [],
   "source": [
    "eigen_values = np.array([3.14474155,1.33161063,0.4923588,0.03128901])"
   ]
  },
  {
   "cell_type": "code",
   "execution_count": 17,
   "id": "8cd3b460",
   "metadata": {},
   "outputs": [
    {
     "data": {
      "text/plain": [
       "array([[-0.16195986,  0.91705888],\n",
       "       [ 0.52404813, -0.20692161],\n",
       "       [ 0.58589647,  0.3205394 ],\n",
       "       [ 0.59654663,  0.11593512]])"
      ]
     },
     "execution_count": 17,
     "metadata": {},
     "output_type": "execute_result"
    }
   ],
   "source": [
    "eigen_vectors = np.array([[-0.16195986 , 0.91705888 ],\n",
    "                         [0.52404813 , -0.20692161],\n",
    "                         [0.58589647 , 0.3205394],\n",
    "                         [0.59654663 , 0.11593512]])\n",
    "eigen_vectors"
   ]
  },
  {
   "cell_type": "markdown",
   "id": "6fdf7512",
   "metadata": {},
   "source": [
    "# Finally , Transform original matrix"
   ]
  },
  {
   "cell_type": "code",
   "execution_count": 18,
   "id": "8ebf624f",
   "metadata": {},
   "outputs": [
    {
     "data": {
      "text/plain": [
       "array([[-0.16195986,  0.91705888],\n",
       "       [ 0.52404813, -0.20692161],\n",
       "       [ 0.58589647,  0.3205394 ],\n",
       "       [ 0.59654663,  0.11593512]])"
      ]
     },
     "execution_count": 18,
     "metadata": {},
     "output_type": "execute_result"
    }
   ],
   "source": [
    "eigen_vectors"
   ]
  },
  {
   "cell_type": "code",
   "execution_count": 19,
   "id": "061c957e",
   "metadata": {},
   "outputs": [
    {
     "data": {
      "text/plain": [
       "array([[-1.11803399, -0.70710678,  0.        ,  0.29138576],\n",
       "       [ 0.372678  ,  1.41421356,  1.93649167,  1.74831455],\n",
       "       [-1.11803399,  0.70710678, -0.64549722, -0.19425717],\n",
       "       [ 0.372678  ,  0.        , -0.64549722, -1.16554303],\n",
       "       [ 1.49071198, -1.41421356, -0.64549722, -0.6799001 ]])"
      ]
     },
     "execution_count": 19,
     "metadata": {},
     "output_type": "execute_result"
    }
   ],
   "source": [
    "data"
   ]
  },
  {
   "cell_type": "code",
   "execution_count": 20,
   "id": "f3ecf4cd",
   "metadata": {},
   "outputs": [
    {
     "data": {
      "text/plain": [
       "array([[-1.56561657e-02, -8.45205481e-01],\n",
       "       [ 2.85829189e+00,  8.72549255e-01],\n",
       "       [ 5.75566079e-02, -1.40104719e+00],\n",
       "       [-1.13385419e+00, -2.66998767e-04],\n",
       "       [-1.76633814e+00,  1.37397042e+00]])"
      ]
     },
     "execution_count": 20,
     "metadata": {},
     "output_type": "execute_result"
    }
   ],
   "source": [
    "new_data = data.dot(eigen_vectors)\n",
    "new_data"
   ]
  },
  {
   "cell_type": "code",
   "execution_count": 21,
   "id": "676fbe44",
   "metadata": {},
   "outputs": [
    {
     "data": {
      "text/plain": [
       "array([[-0.016, -0.845],\n",
       "       [ 2.858,  0.873],\n",
       "       [ 0.058, -1.401],\n",
       "       [-1.134, -0.   ],\n",
       "       [-1.766,  1.374]])"
      ]
     },
     "execution_count": 21,
     "metadata": {},
     "output_type": "execute_result"
    }
   ],
   "source": [
    "np.round(new_data , 3)"
   ]
  },
  {
   "cell_type": "markdown",
   "id": "20280bba",
   "metadata": {},
   "source": [
    "So , We finally perform Principal Component Analysis on our dataset "
   ]
  },
  {
   "cell_type": "code",
   "execution_count": null,
   "id": "5177effc",
   "metadata": {},
   "outputs": [],
   "source": []
  }
 ],
 "metadata": {
  "kernelspec": {
   "display_name": "Python 3 (ipykernel)",
   "language": "python",
   "name": "python3"
  },
  "language_info": {
   "codemirror_mode": {
    "name": "ipython",
    "version": 3
   },
   "file_extension": ".py",
   "mimetype": "text/x-python",
   "name": "python",
   "nbconvert_exporter": "python",
   "pygments_lexer": "ipython3",
   "version": "3.9.7"
  }
 },
 "nbformat": 4,
 "nbformat_minor": 5
}
